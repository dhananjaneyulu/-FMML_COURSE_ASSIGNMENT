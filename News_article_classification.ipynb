{
  "cells": [
    {
      "cell_type": "markdown",
      "metadata": {
        "id": "view-in-github",
        "colab_type": "text"
      },
      "source": [
        "<a href=\"https://colab.research.google.com/github/dhananjaneyulu/-FMML_COURSE_ASSIGNMENT/blob/main/News_article_classification.ipynb\" target=\"_parent\"><img src=\"https://colab.research.google.com/assets/colab-badge.svg\" alt=\"Open In Colab\"/></a>"
      ]
    },
    {
      "cell_type": "code",
      "execution_count": 1,
      "metadata": {
        "id": "I9BV6BCDPc7D"
      },
      "outputs": [],
      "source": [
        "import pandas as pd\n",
        "import numpy as np\n",
        "import matplotlib.pyplot as plt\n",
        "import seaborn as sns"
      ]
    },
    {
      "cell_type": "code",
      "execution_count": 2,
      "metadata": {
        "id": "a-M1ESx4UKXQ"
      },
      "outputs": [],
      "source": [
        "data = pd.read_csv('/content/News.csv')"
      ]
    },
    {
      "cell_type": "code",
      "execution_count": 3,
      "metadata": {
        "colab": {
          "base_uri": "https://localhost:8080/",
          "height": 423
        },
        "id": "NK1DZ7pcfr6V",
        "outputId": "f0e6df78-fad7-47d9-cac7-cfcf0fa0c525"
      },
      "outputs": [
        {
          "output_type": "execute_result",
          "data": {
            "text/plain": [
              "                                                headline          category  \\\n",
              "0       There Were 2 Mass Shootings In Texas Last Wee...           CRIME     \n",
              "1       Will Smith Joins Diplo And Nicky Jam For The ...   ENTERTAINMENT     \n",
              "2       Hugh Grant Marries For The First Time At Age ...   ENTERTAINMENT     \n",
              "3       Jim Carrey Blasts 'Castrato' Adam Schiff And ...   ENTERTAINMENT     \n",
              "4       Julianna Margulies Uses Donald Trump Poop Bag...   ENTERTAINMENT     \n",
              "...                                                  ...               ...   \n",
              "35524   Seinfeld Joked Trump Was A Supervillain In Un...   ENTERTAINMENT     \n",
              "35525   'Family' Groups Blast Boy Scouts' Decision To...    QUEER VOICES     \n",
              "35526   Samantha Bee Slams Donald Trump For Diverting...          COMEDY     \n",
              "35527   Virginia Advances Proof Of Citizenship Requir...        POLITICS     \n",
              "35528   U.S. Military Probing More Possible Civilian ...        POLITICS     \n",
              "\n",
              "                        authors  \\\n",
              "0             Melissa Jeltsen     \n",
              "1               Andy McDonald     \n",
              "2                  Ron Dicker     \n",
              "3                  Ron Dicker     \n",
              "4                  Ron Dicker     \n",
              "...                         ...   \n",
              "35524         Todd Van Luling     \n",
              "35525          Curtis M. Wong     \n",
              "35526               Lee Moran     \n",
              "35527              Sam Levine     \n",
              "35528   Ayesha Rascoe Reuters     \n",
              "\n",
              "                                       short_description  \n",
              "0       She left her husband. He killed their childre...  \n",
              "1                              Of course it has a song.   \n",
              "2       The actor and his longtime girlfriend Anna Eb...  \n",
              "3       The actor gives Dems an ass-kicking for not f...  \n",
              "4       The Dietland actress said using the bags is a...  \n",
              "...                                                  ...  \n",
              "35524   The comedian hosted a 1990 TV special with an...  \n",
              "35525    Inclusivity doesn't sit well with these folks.   \n",
              "35526   Nice misdirection Criss Angel but you canu201...  \n",
              "35527   You already have to show photo ID to vote in ...  \n",
              "35528     Trump approved his first covert counterterrori  \n",
              "\n",
              "[35529 rows x 4 columns]"
            ],
            "text/html": [
              "\n",
              "  <div id=\"df-33165b59-2868-4afc-ab28-a2b3984bd7a3\">\n",
              "    <div class=\"colab-df-container\">\n",
              "      <div>\n",
              "<style scoped>\n",
              "    .dataframe tbody tr th:only-of-type {\n",
              "        vertical-align: middle;\n",
              "    }\n",
              "\n",
              "    .dataframe tbody tr th {\n",
              "        vertical-align: top;\n",
              "    }\n",
              "\n",
              "    .dataframe thead th {\n",
              "        text-align: right;\n",
              "    }\n",
              "</style>\n",
              "<table border=\"1\" class=\"dataframe\">\n",
              "  <thead>\n",
              "    <tr style=\"text-align: right;\">\n",
              "      <th></th>\n",
              "      <th>headline</th>\n",
              "      <th>category</th>\n",
              "      <th>authors</th>\n",
              "      <th>short_description</th>\n",
              "    </tr>\n",
              "  </thead>\n",
              "  <tbody>\n",
              "    <tr>\n",
              "      <th>0</th>\n",
              "      <td>There Were 2 Mass Shootings In Texas Last Wee...</td>\n",
              "      <td>CRIME</td>\n",
              "      <td>Melissa Jeltsen</td>\n",
              "      <td>She left her husband. He killed their childre...</td>\n",
              "    </tr>\n",
              "    <tr>\n",
              "      <th>1</th>\n",
              "      <td>Will Smith Joins Diplo And Nicky Jam For The ...</td>\n",
              "      <td>ENTERTAINMENT</td>\n",
              "      <td>Andy McDonald</td>\n",
              "      <td>Of course it has a song.</td>\n",
              "    </tr>\n",
              "    <tr>\n",
              "      <th>2</th>\n",
              "      <td>Hugh Grant Marries For The First Time At Age ...</td>\n",
              "      <td>ENTERTAINMENT</td>\n",
              "      <td>Ron Dicker</td>\n",
              "      <td>The actor and his longtime girlfriend Anna Eb...</td>\n",
              "    </tr>\n",
              "    <tr>\n",
              "      <th>3</th>\n",
              "      <td>Jim Carrey Blasts 'Castrato' Adam Schiff And ...</td>\n",
              "      <td>ENTERTAINMENT</td>\n",
              "      <td>Ron Dicker</td>\n",
              "      <td>The actor gives Dems an ass-kicking for not f...</td>\n",
              "    </tr>\n",
              "    <tr>\n",
              "      <th>4</th>\n",
              "      <td>Julianna Margulies Uses Donald Trump Poop Bag...</td>\n",
              "      <td>ENTERTAINMENT</td>\n",
              "      <td>Ron Dicker</td>\n",
              "      <td>The Dietland actress said using the bags is a...</td>\n",
              "    </tr>\n",
              "    <tr>\n",
              "      <th>...</th>\n",
              "      <td>...</td>\n",
              "      <td>...</td>\n",
              "      <td>...</td>\n",
              "      <td>...</td>\n",
              "    </tr>\n",
              "    <tr>\n",
              "      <th>35524</th>\n",
              "      <td>Seinfeld Joked Trump Was A Supervillain In Un...</td>\n",
              "      <td>ENTERTAINMENT</td>\n",
              "      <td>Todd Van Luling</td>\n",
              "      <td>The comedian hosted a 1990 TV special with an...</td>\n",
              "    </tr>\n",
              "    <tr>\n",
              "      <th>35525</th>\n",
              "      <td>'Family' Groups Blast Boy Scouts' Decision To...</td>\n",
              "      <td>QUEER VOICES</td>\n",
              "      <td>Curtis M. Wong</td>\n",
              "      <td>Inclusivity doesn't sit well with these folks.</td>\n",
              "    </tr>\n",
              "    <tr>\n",
              "      <th>35526</th>\n",
              "      <td>Samantha Bee Slams Donald Trump For Diverting...</td>\n",
              "      <td>COMEDY</td>\n",
              "      <td>Lee Moran</td>\n",
              "      <td>Nice misdirection Criss Angel but you canu201...</td>\n",
              "    </tr>\n",
              "    <tr>\n",
              "      <th>35527</th>\n",
              "      <td>Virginia Advances Proof Of Citizenship Requir...</td>\n",
              "      <td>POLITICS</td>\n",
              "      <td>Sam Levine</td>\n",
              "      <td>You already have to show photo ID to vote in ...</td>\n",
              "    </tr>\n",
              "    <tr>\n",
              "      <th>35528</th>\n",
              "      <td>U.S. Military Probing More Possible Civilian ...</td>\n",
              "      <td>POLITICS</td>\n",
              "      <td>Ayesha Rascoe Reuters</td>\n",
              "      <td>Trump approved his first covert counterterrori</td>\n",
              "    </tr>\n",
              "  </tbody>\n",
              "</table>\n",
              "<p>35529 rows × 4 columns</p>\n",
              "</div>\n",
              "      <button class=\"colab-df-convert\" onclick=\"convertToInteractive('df-33165b59-2868-4afc-ab28-a2b3984bd7a3')\"\n",
              "              title=\"Convert this dataframe to an interactive table.\"\n",
              "              style=\"display:none;\">\n",
              "        \n",
              "  <svg xmlns=\"http://www.w3.org/2000/svg\" height=\"24px\"viewBox=\"0 0 24 24\"\n",
              "       width=\"24px\">\n",
              "    <path d=\"M0 0h24v24H0V0z\" fill=\"none\"/>\n",
              "    <path d=\"M18.56 5.44l.94 2.06.94-2.06 2.06-.94-2.06-.94-.94-2.06-.94 2.06-2.06.94zm-11 1L8.5 8.5l.94-2.06 2.06-.94-2.06-.94L8.5 2.5l-.94 2.06-2.06.94zm10 10l.94 2.06.94-2.06 2.06-.94-2.06-.94-.94-2.06-.94 2.06-2.06.94z\"/><path d=\"M17.41 7.96l-1.37-1.37c-.4-.4-.92-.59-1.43-.59-.52 0-1.04.2-1.43.59L10.3 9.45l-7.72 7.72c-.78.78-.78 2.05 0 2.83L4 21.41c.39.39.9.59 1.41.59.51 0 1.02-.2 1.41-.59l7.78-7.78 2.81-2.81c.8-.78.8-2.07 0-2.86zM5.41 20L4 18.59l7.72-7.72 1.47 1.35L5.41 20z\"/>\n",
              "  </svg>\n",
              "      </button>\n",
              "      \n",
              "  <style>\n",
              "    .colab-df-container {\n",
              "      display:flex;\n",
              "      flex-wrap:wrap;\n",
              "      gap: 12px;\n",
              "    }\n",
              "\n",
              "    .colab-df-convert {\n",
              "      background-color: #E8F0FE;\n",
              "      border: none;\n",
              "      border-radius: 50%;\n",
              "      cursor: pointer;\n",
              "      display: none;\n",
              "      fill: #1967D2;\n",
              "      height: 32px;\n",
              "      padding: 0 0 0 0;\n",
              "      width: 32px;\n",
              "    }\n",
              "\n",
              "    .colab-df-convert:hover {\n",
              "      background-color: #E2EBFA;\n",
              "      box-shadow: 0px 1px 2px rgba(60, 64, 67, 0.3), 0px 1px 3px 1px rgba(60, 64, 67, 0.15);\n",
              "      fill: #174EA6;\n",
              "    }\n",
              "\n",
              "    [theme=dark] .colab-df-convert {\n",
              "      background-color: #3B4455;\n",
              "      fill: #D2E3FC;\n",
              "    }\n",
              "\n",
              "    [theme=dark] .colab-df-convert:hover {\n",
              "      background-color: #434B5C;\n",
              "      box-shadow: 0px 1px 3px 1px rgba(0, 0, 0, 0.15);\n",
              "      filter: drop-shadow(0px 1px 2px rgba(0, 0, 0, 0.3));\n",
              "      fill: #FFFFFF;\n",
              "    }\n",
              "  </style>\n",
              "\n",
              "      <script>\n",
              "        const buttonEl =\n",
              "          document.querySelector('#df-33165b59-2868-4afc-ab28-a2b3984bd7a3 button.colab-df-convert');\n",
              "        buttonEl.style.display =\n",
              "          google.colab.kernel.accessAllowed ? 'block' : 'none';\n",
              "\n",
              "        async function convertToInteractive(key) {\n",
              "          const element = document.querySelector('#df-33165b59-2868-4afc-ab28-a2b3984bd7a3');\n",
              "          const dataTable =\n",
              "            await google.colab.kernel.invokeFunction('convertToInteractive',\n",
              "                                                     [key], {});\n",
              "          if (!dataTable) return;\n",
              "\n",
              "          const docLinkHtml = 'Like what you see? Visit the ' +\n",
              "            '<a target=\"_blank\" href=https://colab.research.google.com/notebooks/data_table.ipynb>data table notebook</a>'\n",
              "            + ' to learn more about interactive tables.';\n",
              "          element.innerHTML = '';\n",
              "          dataTable['output_type'] = 'display_data';\n",
              "          await google.colab.output.renderOutput(dataTable, element);\n",
              "          const docLink = document.createElement('div');\n",
              "          docLink.innerHTML = docLinkHtml;\n",
              "          element.appendChild(docLink);\n",
              "        }\n",
              "      </script>\n",
              "    </div>\n",
              "  </div>\n",
              "  "
            ]
          },
          "metadata": {},
          "execution_count": 3
        }
      ],
      "source": [
        "data"
      ]
    },
    {
      "cell_type": "code",
      "execution_count": 4,
      "metadata": {
        "colab": {
          "base_uri": "https://localhost:8080/",
          "height": 554
        },
        "id": "mA3D7LTPf2W7",
        "outputId": "a391352d-f9a1-424d-f004-503e1b9ff86d"
      },
      "outputs": [
        {
          "output_type": "execute_result",
          "data": {
            "text/plain": [
              "<Axes: >"
            ]
          },
          "metadata": {},
          "execution_count": 4
        },
        {
          "output_type": "display_data",
          "data": {
            "text/plain": [
              "<Figure size 1080x648 with 1 Axes>"
            ],
            "image/png": "[encoded data removed]"
          },
          "metadata": {
            "needs_background": "light"
          }
        }
      ],
      "source": [
        "fig = plt.figure(figsize=(15,9))\n",
        "sns.barplot(x = data['category'].value_counts().values,y=data['category'].value_counts().index)"
      ]
    },
    {
      "cell_type": "code",
      "execution_count": 5,
      "metadata": {
        "id": "11elwTnif92j"
      },
      "outputs": [],
      "source": [
        "df = data[['headline','category']]"
      ]
    },
    {
      "cell_type": "code",
      "execution_count": 6,
      "metadata": {
        "id": "RCyuXhmCgDL_"
      },
      "outputs": [],
      "source": [
        "from sklearn.feature_extraction.text import CountVectorizer"
      ]
    },
    {
      "cell_type": "code",
      "execution_count": 7,
      "metadata": {
        "id": "wCQsgdZJgF1W"
      },
      "outputs": [],
      "source": [
        "x = np.array(df['headline'])\n",
        "y = np.array(df['category'])"
      ]
    },
    {
      "cell_type": "code",
      "execution_count": 8,
      "metadata": {
        "id": "ZSNPU2kAgLIM"
      },
      "outputs": [],
      "source": [
        "m = CountVectorizer()\n",
        "x = m.fit_transform(x) "
      ]
    },
    {
      "cell_type": "code",
      "execution_count": 9,
      "metadata": {
        "id": "jo9cBmKDgO4v"
      },
      "outputs": [],
      "source": [
        "from sklearn.model_selection import train_test_split"
      ]
    },
    {
      "cell_type": "code",
      "execution_count": 10,
      "metadata": {
        "id": "rdMnR6PjgS3l"
      },
      "outputs": [],
      "source": [
        "xtrain,xtest,ytrain,ytest =train_test_split(x,y,test_size = 0.20)"
      ]
    },
    {
      "cell_type": "code",
      "execution_count": 11,
      "metadata": {
        "id": "J5M3yxqLgeYQ"
      },
      "outputs": [],
      "source": [
        "from sklearn.naive_bayes import MultinomialNB"
      ]
    },
    {
      "cell_type": "code",
      "execution_count": 12,
      "metadata": {
        "colab": {
          "base_uri": "https://localhost:8080/",
          "height": 74
        },
        "id": "FQvh-9zIgkBN",
        "outputId": "02ba5bf3-b8f8-4aaf-ed1c-dc82c0c1aca5"
      },
      "outputs": [
        {
          "output_type": "execute_result",
          "data": {
            "text/plain": [
              "MultinomialNB()"
            ],
            "text/html": [
              "<style>#sk-container-id-1 {color: black;background-color: white;}#sk-container-id-1 pre{padding: 0;}#sk-container-id-1 div.sk-toggleable {background-color: white;}#sk-container-id-1 label.sk-toggleable__label {cursor: pointer;display: block;width: 100%;margin-bottom: 0;padding: 0.3em;box-sizing: border-box;text-align: center;}#sk-container-id-1 label.sk-toggleable__label-arrow:before {content: \"▸\";float: left;margin-right: 0.25em;color: #696969;}#sk-container-id-1 label.sk-toggleable__label-arrow:hover:before {color: black;}#sk-container-id-1 div.sk-estimator:hover label.sk-toggleable__label-arrow:before {color: black;}#sk-container-id-1 div.sk-toggleable__content {max-height: 0;max-width: 0;overflow: hidden;text-align: left;background-color: #f0f8ff;}#sk-container-id-1 div.sk-toggleable__content pre {margin: 0.2em;color: black;border-radius: 0.25em;background-color: #f0f8ff;}#sk-container-id-1 input.sk-toggleable__control:checked~div.sk-toggleable__content {max-height: 200px;max-width: 100%;overflow: auto;}#sk-container-id-1 input.sk-toggleable__control:checked~label.sk-toggleable__label-arrow:before {content: \"▾\";}#sk-container-id-1 div.sk-estimator input.sk-toggleable__control:checked~label.sk-toggleable__label {background-color: #d4ebff;}#sk-container-id-1 div.sk-label input.sk-toggleable__control:checked~label.sk-toggleable__label {background-color: #d4ebff;}#sk-container-id-1 input.sk-hidden--visually {border: 0;clip: rect(1px 1px 1px 1px);clip: rect(1px, 1px, 1px, 1px);height: 1px;margin: -1px;overflow: hidden;padding: 0;position: absolute;width: 1px;}#sk-container-id-1 div.sk-estimator {font-family: monospace;background-color: #f0f8ff;border: 1px dotted black;border-radius: 0.25em;box-sizing: border-box;margin-bottom: 0.5em;}#sk-container-id-1 div.sk-estimator:hover {background-color: #d4ebff;}#sk-container-id-1 div.sk-parallel-item::after {content: \"\";width: 100%;border-bottom: 1px solid gray;flex-grow: 1;}#sk-container-id-1 div.sk-label:hover label.sk-toggleable__label {background-color: #d4ebff;}#sk-container-id-1 div.sk-serial::before {content: \"\";position: absolute;border-left: 1px solid gray;box-sizing: border-box;top: 0;bottom: 0;left: 50%;z-index: 0;}#sk-container-id-1 div.sk-serial {display: flex;flex-direction: column;align-items: center;background-color: white;padding-right: 0.2em;padding-left: 0.2em;position: relative;}#sk-container-id-1 div.sk-item {position: relative;z-index: 1;}#sk-container-id-1 div.sk-parallel {display: flex;align-items: stretch;justify-content: center;background-color: white;position: relative;}#sk-container-id-1 div.sk-item::before, #sk-container-id-1 div.sk-parallel-item::before {content: \"\";position: absolute;border-left: 1px solid gray;box-sizing: border-box;top: 0;bottom: 0;left: 50%;z-index: -1;}#sk-container-id-1 div.sk-parallel-item {display: flex;flex-direction: column;z-index: 1;position: relative;background-color: white;}#sk-container-id-1 div.sk-parallel-item:first-child::after {align-self: flex-end;width: 50%;}#sk-container-id-1 div.sk-parallel-item:last-child::after {align-self: flex-start;width: 50%;}#sk-container-id-1 div.sk-parallel-item:only-child::after {width: 0;}#sk-container-id-1 div.sk-dashed-wrapped {border: 1px dashed gray;margin: 0 0.4em 0.5em 0.4em;box-sizing: border-box;padding-bottom: 0.4em;background-color: white;}#sk-container-id-1 div.sk-label label {font-family: monospace;font-weight: bold;display: inline-block;line-height: 1.2em;}#sk-container-id-1 div.sk-label-container {text-align: center;}#sk-container-id-1 div.sk-container {/* jupyter's `normalize.less` sets `[hidden] { display: none; }` but bootstrap.min.css set `[hidden] { display: none !important; }` so we also need the `!important` here to be able to override the default hidden behavior on the sphinx rendered scikit-learn.org. See: https://github.com/scikit-learn/scikit-learn/issues/21755 */display: inline-block !important;position: relative;}#sk-container-id-1 div.sk-text-repr-fallback {display: none;}</style><div id=\"sk-container-id-1\" class=\"sk-top-container\"><div class=\"sk-text-repr-fallback\"><pre>MultinomialNB()</pre><b>In a Jupyter environment, please rerun this cell to show the HTML representation or trust the notebook. <br />On GitHub, the HTML representation is unable to render, please try loading this page with nbviewer.org.</b></div><div class=\"sk-container\" hidden><div class=\"sk-item\"><div class=\"sk-estimator sk-toggleable\"><input class=\"sk-toggleable__control sk-hidden--visually\" id=\"sk-estimator-id-1\" type=\"checkbox\" checked><label for=\"sk-estimator-id-1\" class=\"sk-toggleable__label sk-toggleable__label-arrow\">MultinomialNB</label><div class=\"sk-toggleable__content\"><pre>MultinomialNB()</pre></div></div></div></div></div>"
            ]
          },
          "metadata": {},
          "execution_count": 12
        }
      ],
      "source": [
        "model = MultinomialNB()\n",
        "model.fit(xtrain,ytrain)"
      ]
    },
    {
      "cell_type": "code",
      "execution_count": 13,
      "metadata": {
        "colab": {
          "base_uri": "https://localhost:8080/",
          "height": 36
        },
        "id": "JpGb3V5CgpMj",
        "outputId": "7a599f16-0f48-479f-e63e-c5818b75f6be"
      },
      "outputs": [
        {
          "output_type": "execute_result",
          "data": {
            "text/plain": [
              "' Justin Timberlake Visits Texas School Shooting Victims authors'"
            ],
            "application/vnd.google.colaboratory.intrinsic+json": {
              "type": "string"
            }
          },
          "metadata": {},
          "execution_count": 13
        }
      ],
      "source": [
        "df['headline'].loc[10]"
      ]
    },
    {
      "cell_type": "code",
      "execution_count": 14,
      "metadata": {
        "colab": {
          "base_uri": "https://localhost:8080/",
          "height": 36
        },
        "id": "RAW9coLfgs3l",
        "outputId": "cd2641b3-a17e-4fda-ac4b-797c04ef337e"
      },
      "outputs": [
        {
          "output_type": "execute_result",
          "data": {
            "text/plain": [
              "' ENTERTAINMENT  '"
            ],
            "application/vnd.google.colaboratory.intrinsic+json": {
              "type": "string"
            }
          },
          "metadata": {},
          "execution_count": 14
        }
      ],
      "source": [
        "df['category'].loc[10]"
      ]
    },
    {
      "cell_type": "code",
      "execution_count": 15,
      "metadata": {
        "id": "70r1BJVXg5Fb"
      },
      "outputs": [],
      "source": [
        "input = 'Washington creates first statewide alert system for missing Indigenous people'\n",
        "text = m.transform([input]).toarray()"
      ]
    },
    {
      "cell_type": "code",
      "execution_count": 16,
      "metadata": {
        "colab": {
          "base_uri": "https://localhost:8080/"
        },
        "id": "X6pkH1oFg6_3",
        "outputId": "b179fa5d-a903-4394-e159-74dc356b8abd"
      },
      "outputs": [
        {
          "output_type": "execute_result",
          "data": {
            "text/plain": [
              "array([' POLITICS  '], dtype='<U17')"
            ]
          },
          "metadata": {},
          "execution_count": 16
        }
      ],
      "source": [
        "model.predict(text)"
      ]
    },
    {
      "cell_type": "code",
      "execution_count": null,
      "metadata": {
        "id": "YYfFmcKIg_MQ"
      },
      "outputs": [],
      "source": []
    }
  ],
  "metadata": {
    "colab": {
      "provenance": [],
      "include_colab_link": true
    },
    "kernelspec": {
      "display_name": "Python 3",
      "language": "python",
      "name": "python3"
    },
    "language_info": {
      "name": "python",
      "version": "3.9.7"
    },
    "vscode": {
      "interpreter": {
        "hash": "5addf786bcd861d1ce5006f23111f8cbb206731e5b61b0a5632ba9e0252558a8"
      }
    }
  },
  "nbformat": 4,
  "nbformat_minor": 0
}